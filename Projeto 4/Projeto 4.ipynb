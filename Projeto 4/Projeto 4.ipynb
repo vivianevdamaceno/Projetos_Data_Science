{
 "cells": [
  {
   "cell_type": "markdown",
   "id": "aa056594",
   "metadata": {},
   "source": [
    "# Projeto de análise exploratória de dados"
   ]
  },
  {
   "cell_type": "markdown",
   "id": "345143bc",
   "metadata": {},
   "source": [
    "### Fonte de dados:\n",
    "\n",
    "https://www.kaggle.com/mirichoi0218/insurance\n",
    "    \n",
    "Trata-se de um conjunto de dados com informações de usuários de planos de saúde e seus gastos totais."
   ]
  },
  {
   "cell_type": "markdown",
   "id": "a6f880ee",
   "metadata": {},
   "source": [
    "### Dicionário:"
   ]
  },
  {
   "cell_type": "markdown",
   "id": "874382fc",
   "metadata": {},
   "source": [
    "<ul>\n",
    "<li>age: Idade do usuário contratante; </li>\n",
    "\n",
    "<li>sex: Gênero do Contratante, female(feminino), male(masculino);</li>\n",
    "\n",
    "<li>bmi: Índice de massa corpórea, provê um entendimento sobre o corpo, massas que são relativamente altos ou baixos em relação a altura, é obtida dividindo a massa pelo quadrado da altura (kg/m²), idealmente deve estar entre 18.5 e 24.9;</li>\n",
    "\n",
    "<li>children: Número de filhos ou dependentes cobertos pelo plano de saúde;</li>\n",
    "\n",
    "<li>smoker: Fumante; </li>\n",
    "\n",
    "<li>region: Região em que o beneficiário mora nos EUA, Nordeste, Sudeste, Sudoeste, Noroeste; </li>\n",
    "\n",
    "<li>charges: Custos individuais com o plano de saúde em Dólares; </li>\n",
    "</ul>"
   ]
  },
  {
   "cell_type": "markdown",
   "id": "54f1becf",
   "metadata": {},
   "source": [
    "### Bibliotecas"
   ]
  },
  {
   "cell_type": "code",
   "execution_count": 77,
   "id": "acafebd9",
   "metadata": {},
   "outputs": [],
   "source": [
    "import pandas as pd\n",
    "import numpy as np \n",
    "import matplotlib.pyplot as plt\n",
    "import seaborn as sns\n",
    "\n",
    "%matplotlib inline"
   ]
  },
  {
   "cell_type": "markdown",
   "id": "1e2baa53",
   "metadata": {},
   "source": [
    "### Importando os dados "
   ]
  },
  {
   "cell_type": "code",
   "execution_count": 5,
   "id": "65f8da93",
   "metadata": {},
   "outputs": [
    {
     "data": {
      "text/html": [
       "<div>\n",
       "<style scoped>\n",
       "    .dataframe tbody tr th:only-of-type {\n",
       "        vertical-align: middle;\n",
       "    }\n",
       "\n",
       "    .dataframe tbody tr th {\n",
       "        vertical-align: top;\n",
       "    }\n",
       "\n",
       "    .dataframe thead th {\n",
       "        text-align: right;\n",
       "    }\n",
       "</style>\n",
       "<table border=\"1\" class=\"dataframe\">\n",
       "  <thead>\n",
       "    <tr style=\"text-align: right;\">\n",
       "      <th></th>\n",
       "      <th>age</th>\n",
       "      <th>sex</th>\n",
       "      <th>bmi</th>\n",
       "      <th>children</th>\n",
       "      <th>smoker</th>\n",
       "      <th>region</th>\n",
       "      <th>charges</th>\n",
       "    </tr>\n",
       "  </thead>\n",
       "  <tbody>\n",
       "    <tr>\n",
       "      <th>0</th>\n",
       "      <td>19</td>\n",
       "      <td>female</td>\n",
       "      <td>27.900</td>\n",
       "      <td>0</td>\n",
       "      <td>yes</td>\n",
       "      <td>southwest</td>\n",
       "      <td>16884.92400</td>\n",
       "    </tr>\n",
       "    <tr>\n",
       "      <th>1</th>\n",
       "      <td>18</td>\n",
       "      <td>male</td>\n",
       "      <td>33.770</td>\n",
       "      <td>1</td>\n",
       "      <td>no</td>\n",
       "      <td>southeast</td>\n",
       "      <td>1725.55230</td>\n",
       "    </tr>\n",
       "    <tr>\n",
       "      <th>2</th>\n",
       "      <td>28</td>\n",
       "      <td>male</td>\n",
       "      <td>33.000</td>\n",
       "      <td>3</td>\n",
       "      <td>no</td>\n",
       "      <td>southeast</td>\n",
       "      <td>4449.46200</td>\n",
       "    </tr>\n",
       "    <tr>\n",
       "      <th>3</th>\n",
       "      <td>33</td>\n",
       "      <td>male</td>\n",
       "      <td>22.705</td>\n",
       "      <td>0</td>\n",
       "      <td>no</td>\n",
       "      <td>northwest</td>\n",
       "      <td>21984.47061</td>\n",
       "    </tr>\n",
       "    <tr>\n",
       "      <th>4</th>\n",
       "      <td>32</td>\n",
       "      <td>male</td>\n",
       "      <td>28.880</td>\n",
       "      <td>0</td>\n",
       "      <td>no</td>\n",
       "      <td>northwest</td>\n",
       "      <td>3866.85520</td>\n",
       "    </tr>\n",
       "  </tbody>\n",
       "</table>\n",
       "</div>"
      ],
      "text/plain": [
       "   age     sex     bmi  children smoker     region      charges\n",
       "0   19  female  27.900         0    yes  southwest  16884.92400\n",
       "1   18    male  33.770         1     no  southeast   1725.55230\n",
       "2   28    male  33.000         3     no  southeast   4449.46200\n",
       "3   33    male  22.705         0     no  northwest  21984.47061\n",
       "4   32    male  28.880         0     no  northwest   3866.85520"
      ]
     },
     "execution_count": 5,
     "metadata": {},
     "output_type": "execute_result"
    }
   ],
   "source": [
    "dados = pd.read_csv('insurance.csv')\n",
    "dados.head()"
   ]
  },
  {
   "cell_type": "markdown",
   "id": "da16d111",
   "metadata": {},
   "source": [
    "### Explorando as variáveis"
   ]
  },
  {
   "cell_type": "code",
   "execution_count": 6,
   "id": "a863c546",
   "metadata": {},
   "outputs": [
    {
     "name": "stdout",
     "output_type": "stream",
     "text": [
      "<class 'pandas.core.frame.DataFrame'>\n",
      "RangeIndex: 1338 entries, 0 to 1337\n",
      "Data columns (total 7 columns):\n",
      " #   Column    Non-Null Count  Dtype  \n",
      "---  ------    --------------  -----  \n",
      " 0   age       1338 non-null   int64  \n",
      " 1   sex       1338 non-null   object \n",
      " 2   bmi       1338 non-null   float64\n",
      " 3   children  1338 non-null   int64  \n",
      " 4   smoker    1338 non-null   object \n",
      " 5   region    1338 non-null   object \n",
      " 6   charges   1338 non-null   float64\n",
      "dtypes: float64(2), int64(2), object(3)\n",
      "memory usage: 73.3+ KB\n"
     ]
    }
   ],
   "source": [
    "dados.info()"
   ]
  },
  {
   "cell_type": "markdown",
   "id": "4b61fc1f",
   "metadata": {},
   "source": [
    "Não há valores nulos"
   ]
  },
  {
   "cell_type": "markdown",
   "id": "6bc29cf4",
   "metadata": {},
   "source": [
    "Box plot para verificação de Outliers nos dados"
   ]
  },
  {
   "cell_type": "code",
   "execution_count": 10,
   "id": "56eb8e17",
   "metadata": {},
   "outputs": [
    {
     "data": {
      "text/plain": [
       "Text(0.5, 1.0, 'Gráfico de caixa - Age')"
      ]
     },
     "execution_count": 10,
     "metadata": {},
     "output_type": "execute_result"
    },
    {
     "data": {
      "image/png": "[encoded data removed]",
      "text/plain": [
       "<Figure size 360x288 with 1 Axes>"
      ]
     },
     "metadata": {
      "needs_background": "light"
     },
     "output_type": "display_data"
    }
   ],
   "source": [
    "fig = plt.figure(figsize=(5,4))\n",
    "eixo = fig.add_axes([0,0,1,1])\n",
    "\n",
    "eixo.boxplot(dados['age'])\n",
    "eixo.set_title('Gráfico de caixa - Age', fontsize=15, pad=10)"
   ]
  },
  {
   "cell_type": "code",
   "execution_count": 11,
   "id": "6a6a7800",
   "metadata": {},
   "outputs": [
    {
     "data": {
      "text/plain": [
       "Text(0.5, 1.0, 'Gráfico de caixa - bmi')"
      ]
     },
     "execution_count": 11,
     "metadata": {},
     "output_type": "execute_result"
    },
    {
     "data": {
      "image/png": "[encoded data removed]",
      "text/plain": [
       "<Figure size 360x288 with 1 Axes>"
      ]
     },
     "metadata": {
      "needs_background": "light"
     },
     "output_type": "display_data"
    }
   ],
   "source": [
    "fig = plt.figure(figsize=(5,4))\n",
    "eixo = fig.add_axes([0,0,1,1])\n",
    "\n",
    "eixo.boxplot(dados['bmi'])\n",
    "eixo.set_title('Gráfico de caixa - bmi', fontsize=15, pad=10)"
   ]
  },
  {
   "cell_type": "markdown",
   "id": "355f953a",
   "metadata": {},
   "source": [
    "Existem alguns outliers no índice de massa corpórea, mas provavelmente se refere a pessoas obesas."
   ]
  },
  {
   "cell_type": "code",
   "execution_count": 12,
   "id": "04622fdb",
   "metadata": {},
   "outputs": [
    {
     "data": {
      "text/plain": [
       "Text(0.5, 1.0, 'Gráfico de caixa - children')"
      ]
     },
     "execution_count": 12,
     "metadata": {},
     "output_type": "execute_result"
    },
    {
     "data": {
      "image/png": "[encoded data removed]",
      "text/plain": [
       "<Figure size 360x288 with 1 Axes>"
      ]
     },
     "metadata": {
      "needs_background": "light"
     },
     "output_type": "display_data"
    }
   ],
   "source": [
    "fig = plt.figure(figsize=(5,4))\n",
    "eixo = fig.add_axes([0,0,1,1])\n",
    "\n",
    "eixo.boxplot(dados['children'])\n",
    "eixo.set_title('Gráfico de caixa - children', fontsize=15, pad=10)"
   ]
  },
  {
   "cell_type": "markdown",
   "id": "eabd7820",
   "metadata": {},
   "source": [
    "A maioria dos usuários possui de 0 a 2 dependentes. "
   ]
  },
  {
   "cell_type": "code",
   "execution_count": 13,
   "id": "6d43bfde",
   "metadata": {},
   "outputs": [
    {
     "data": {
      "text/plain": [
       "Text(0.5, 1.0, 'Gráfico de caixa - charges')"
      ]
     },
     "execution_count": 13,
     "metadata": {},
     "output_type": "execute_result"
    },
    {
     "data": {
      "image/png": "[encoded data removed]",
      "text/plain": [
       "<Figure size 360x288 with 1 Axes>"
      ]
     },
     "metadata": {
      "needs_background": "light"
     },
     "output_type": "display_data"
    }
   ],
   "source": [
    "fig = plt.figure(figsize=(5,4))\n",
    "eixo = fig.add_axes([0,0,1,1])\n",
    "\n",
    "eixo.boxplot(dados['charges'])\n",
    "eixo.set_title('Gráfico de caixa - charges', fontsize=15, pad=10)"
   ]
  },
  {
   "cell_type": "markdown",
   "id": "c0d74f0c",
   "metadata": {},
   "source": [
    "A frente serão realizadas outras verificações para determinar se esses valores são realmente outliers."
   ]
  },
  {
   "cell_type": "code",
   "execution_count": 28,
   "id": "0c10075f",
   "metadata": {},
   "outputs": [],
   "source": [
    "sexo = dados['sex'].value_counts()\n",
    "labels = sexo.index"
   ]
  },
  {
   "cell_type": "code",
   "execution_count": 34,
   "id": "b8cb6da6",
   "metadata": {},
   "outputs": [
    {
     "data": {
      "text/plain": [
       "Text(0.5, 1.0, 'Gênero')"
      ]
     },
     "execution_count": 34,
     "metadata": {},
     "output_type": "execute_result"
    },
    {
     "data": {
      "image/png": "[encoded data removed]",
      "text/plain": [
       "<Figure size 360x288 with 1 Axes>"
      ]
     },
     "metadata": {},
     "output_type": "display_data"
    }
   ],
   "source": [
    "fig = plt.figure(figsize = (5,4))\n",
    "eixo = fig.add_axes([0,0,1,1])\n",
    "\n",
    "eixo.pie(sexo, labels = labels,\n",
    "         autopct = '%.1f%%')\n",
    "eixo.set_title('Gênero', fontsize = 15, pad = 10)"
   ]
  },
  {
   "cell_type": "code",
   "execution_count": 65,
   "id": "125a9f34",
   "metadata": {},
   "outputs": [],
   "source": [
    "fumantes = dados['smoker'].value_counts()\n",
    "labels = fumantes.index"
   ]
  },
  {
   "cell_type": "code",
   "execution_count": 66,
   "id": "4502d41d",
   "metadata": {},
   "outputs": [
    {
     "data": {
      "text/plain": [
       "Text(0.5, 1.0, 'Fumantes')"
      ]
     },
     "execution_count": 66,
     "metadata": {},
     "output_type": "execute_result"
    },
    {
     "data": {
      "image/png": "[encoded data removed]",
      "text/plain": [
       "<Figure size 360x288 with 1 Axes>"
      ]
     },
     "metadata": {},
     "output_type": "display_data"
    }
   ],
   "source": [
    "fig = plt.figure(figsize = (5,4))\n",
    "eixo = fig.add_axes([0,0,1,1])\n",
    "\n",
    "eixo.pie(fumantes, labels = labels,\n",
    "         autopct = '%.1f%%')\n",
    "eixo.set_title('Fumantes', fontsize = 15, pad = 10)"
   ]
  },
  {
   "cell_type": "code",
   "execution_count": 70,
   "id": "66e5501e",
   "metadata": {},
   "outputs": [
    {
     "data": {
      "text/plain": [
       "southwest    325\n",
       "southeast    364\n",
       "northwest    325\n",
       "northeast    324\n",
       "Name: region, dtype: int64"
      ]
     },
     "execution_count": 70,
     "metadata": {},
     "output_type": "execute_result"
    }
   ],
   "source": [
    "regioes = dados['region'].value_counts()\n",
    "nome_regioes = ['southwest', 'southeast', 'northwest', 'northeast']\n",
    "\n",
    "regioes = regioes[nome_regioes]\n",
    "regioes"
   ]
  },
  {
   "cell_type": "code",
   "execution_count": 75,
   "id": "ee37a527",
   "metadata": {},
   "outputs": [
    {
     "data": {
      "text/plain": [
       "Text(0.5, 1.0, 'Numero de Usuários por Região')"
      ]
     },
     "execution_count": 75,
     "metadata": {},
     "output_type": "execute_result"
    },
    {
     "data": {
      "image/png": "[encoded data removed]",
      "text/plain": [
       "<Figure size 360x288 with 1 Axes>"
      ]
     },
     "metadata": {
      "needs_background": "light"
     },
     "output_type": "display_data"
    }
   ],
   "source": [
    "fig = plt.figure(figsize = (5,4))\n",
    "eixo = fig.add_axes([0,0,1,1])\n",
    "\n",
    "eixo.bar(regioes.index, regioes)\n",
    "eixo.set_title('Numero de Usuários por Região', fontsize = 15, pad = 10)\n"
   ]
  },
  {
   "cell_type": "markdown",
   "id": "2e88e967",
   "metadata": {},
   "source": [
    "A partir daqui será gerada uma visualização no Power Bi."
   ]
  },
  {
   "cell_type": "code",
   "execution_count": null,
   "id": "3f50f8b5",
   "metadata": {},
   "outputs": [],
   "source": []
  }
 ],
 "metadata": {
  "kernelspec": {
   "display_name": "Python 3",
   "language": "python",
   "name": "python3"
  },
  "language_info": {
   "codemirror_mode": {
    "name": "ipython",
    "version": 3
   },
   "file_extension": ".py",
   "mimetype": "text/x-python",
   "name": "python",
   "nbconvert_exporter": "python",
   "pygments_lexer": "ipython3",
   "version": "3.8.8"
  }
 },
 "nbformat": 4,
 "nbformat_minor": 5
}
