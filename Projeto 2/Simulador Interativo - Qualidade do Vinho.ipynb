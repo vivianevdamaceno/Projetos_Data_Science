{
 "cells": [
  {
   "cell_type": "markdown",
   "metadata": {},
   "source": [
    "<h1 style='color: green; font-size: 36px; font-weight: bold;'>Data Science - Regressão Linear</h1>"
   ]
  },
  {
   "cell_type": "markdown",
   "metadata": {},
   "source": [
    "# <font color='red' style='font-size: 30px;'>Bônus</font>\n",
    "<hr style='border: 2px solid red;'>"
   ]
  },
  {
   "cell_type": "markdown",
   "metadata": {},
   "source": [
    "## Importando o modelo"
   ]
  },
  {
   "cell_type": "code",
   "execution_count": 23,
   "metadata": {},
   "outputs": [],
   "source": [
    "import pickle\n",
    "\n",
    "modelo = open('modelo_wine_quality','rb')\n",
    "lm_new = pickle.load(modelo)\n",
    "modelo.close()\n"
   ]
  },
  {
   "cell_type": "markdown",
   "metadata": {},
   "source": [
    "## Exemplo de um simulador interativo para Jupyter\n",
    "\n",
    "https://ipywidgets.readthedocs.io/en/stable/index.html\n",
    "\n",
    "https://github.com/jupyter-widgets/ipywidgets"
   ]
  },
  {
   "cell_type": "code",
   "execution_count": 31,
   "metadata": {},
   "outputs": [],
   "source": [
    "# Importando bibliotecas\n",
    "from ipywidgets import widgets, HBox, VBox\n",
    "from IPython.display import display\n",
    "\n",
    "# Criando os controles do formulário\n",
    "fixed_acidity = widgets.Text(description=\"Acidez Fixa\")\n",
    "volatile_acidity = widgets.Text(description=\"Acidez Volátil\")\n",
    "citric_acid = widgets.Text(description=\"Ácido Cítrico\")\n",
    "residual_sugar = widgets.Text(description=\"Aç. Res.\")\n",
    "chlorides = widgets.Text(description=\"Cloretos\")\n",
    "free_sulfur_dioxide = widgets.Text(description=\"SO2 livre\")\n",
    "total_sulfur_dioxide = widgets.Text(description=\"SO2 Total\")\n",
    "density = widgets.Text(description=\"Densidade\")\n",
    "pH = widgets.Text(description=\"pH\")\n",
    "sulphates = widgets.Text(description=\"Sulfatos\")\n",
    "alcohol = widgets.Text(description=\"Álcool\")\n",
    "\n",
    "botao = widgets.Button(description=\"Simular\")\n",
    "\n",
    "# Posicionando os controles\n",
    "entradas = VBox([fixed_acidity, volatile_acidity, citric_acid, residual_sugar, chlorides, free_sulfur_dioxide,\n",
    "             total_sulfur_dioxide, density, pH, sulphates,alcohol])\n",
    "inputs = HBox([entradas])\n",
    "\n",
    "# Função de simulação\n",
    "def simulador(sender):\n",
    "    entrada=[[\n",
    "                float(fixed_acidity.value if fixed_acidity.value else 0), \n",
    "                float(volatile_acidity.value if volatile_acidity.value else 0), \n",
    "                float(citric_acid.value if citric_acid.value else 0), \n",
    "                float(residual_sugar.value if residual_sugar.value else 0), \n",
    "                float(chlorides.value if chlorides.value else 0), \n",
    "                float(free_sulfur_dioxide.value if free_sulfur_dioxide.value else 0),\n",
    "                float(total_sulfur_dioxide.value if total_sulfur_dioxide.value else 0),\n",
    "                float(density.value if density.value else 0),\n",
    "                float(pH.value if pH.value else 0),\n",
    "                float(sulphates.value if sulphates.value else 0),\n",
    "                float(alcohol.value if alcohol.value else 0)\n",
    "             ]]\n",
    "    \n",
    "    if (lm_new.predict(entrada)[0]) == 1:\n",
    "        print('O Vinho é Bom.')\n",
    "    else:\n",
    "        print('O Vinho é Ruim.')\n",
    "    \n",
    "# Atribuindo a função \"simulador\" ao evento click do botão\n",
    "botao.on_click(simulador)    "
   ]
  },
  {
   "cell_type": "code",
   "execution_count": 32,
   "metadata": {},
   "outputs": [
    {
     "data": {
      "application/vnd.jupyter.widget-view+json": {
       "model_id": "c01d90ad9c6f46899bda4660a7fce059",
       "version_major": 2,
       "version_minor": 0
      },
      "text/plain": [
       "HBox(children=(VBox(children=(Text(value='', description='Acidez Fixa'), Text(value='', description='Acidez Vo…"
      ]
     },
     "metadata": {},
     "output_type": "display_data"
    },
    {
     "data": {
      "application/vnd.jupyter.widget-view+json": {
       "model_id": "511070996ee44123babb1bd69d4b4b79",
       "version_major": 2,
       "version_minor": 0
      },
      "text/plain": [
       "Button(description='Simular', style=ButtonStyle())"
      ]
     },
     "metadata": {},
     "output_type": "display_data"
    }
   ],
   "source": [
    "display(inputs, botao)"
   ]
  },
  {
   "cell_type": "code",
   "execution_count": null,
   "metadata": {},
   "outputs": [],
   "source": []
  }
 ],
 "metadata": {
  "kernelspec": {
   "display_name": "Python 3",
   "language": "python",
   "name": "python3"
  },
  "language_info": {
   "codemirror_mode": {
    "name": "ipython",
    "version": 3
   },
   "file_extension": ".py",
   "mimetype": "text/x-python",
   "name": "python",
   "nbconvert_exporter": "python",
   "pygments_lexer": "ipython3",
   "version": "3.7.6"
  }
 },
 "nbformat": 4,
 "nbformat_minor": 2
}
